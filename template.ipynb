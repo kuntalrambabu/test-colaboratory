{
  "nbformat": 4,
  "nbformat_minor": 0,
  "metadata": {
    "colab": {
      "provenance": [],
      "authorship_tag": "ABX9TyPVVv66C/riXngnl7znughm",
      "include_colab_link": true
    },
    "kernelspec": {
      "name": "python3",
      "display_name": "Python 3"
    },
    "language_info": {
      "name": "python"
    }
  },
  "cells": [
    {
      "cell_type": "markdown",
      "metadata": {
        "id": "view-in-github",
        "colab_type": "text"
      },
      "source": [
        "<a href=\"https://colab.research.google.com/github/kuntalrambabu/test-colaboratory/blob/main/template.ipynb\" target=\"_parent\"><img src=\"https://colab.research.google.com/assets/colab-badge.svg\" alt=\"Open In Colab\"/></a>"
      ]
    },
    {
      "cell_type": "code",
      "execution_count": 1,
      "metadata": {
        "colab": {
          "base_uri": "https://localhost:8080/"
        },
        "id": "ufGlNYTjXqST",
        "outputId": "a403cafa-0932-479d-a466-83aaaa75a244"
      },
      "outputs": [
        {
          "output_type": "stream",
          "name": "stdout",
          "text": [
            "helo\n"
          ]
        }
      ],
      "source": [
        "print('helo')"
      ]
    },
    {
      "cell_type": "code",
      "source": [
        "print(\"hello colab\")"
      ],
      "metadata": {
        "colab": {
          "base_uri": "https://localhost:8080/"
        },
        "id": "c660TSdEa31O",
        "outputId": "a2e337b0-8e4b-4764-ccc5-bf8ea75bd3a5"
      },
      "execution_count": 2,
      "outputs": [
        {
          "output_type": "stream",
          "name": "stdout",
          "text": [
            "hello colab\n"
          ]
        }
      ]
    },
    {
      "cell_type": "code",
      "source": [
        "import numpy as np\n",
        "np.__version__"
      ],
      "metadata": {
        "id": "3I2hUeJ8brDe",
        "outputId": "5c4cf7ba-159d-47a7-b50d-a0f038b61e01",
        "colab": {
          "base_uri": "https://localhost:8080/",
          "height": 35
        }
      },
      "execution_count": 3,
      "outputs": [
        {
          "output_type": "execute_result",
          "data": {
            "text/plain": [
              "'1.21.6'"
            ],
            "application/vnd.google.colaboratory.intrinsic+json": {
              "type": "string"
            }
          },
          "metadata": {},
          "execution_count": 3
        }
      ]
    },
    {
      "cell_type": "code",
      "source": [
        "np.random.rand(3,2)\n"
      ],
      "metadata": {
        "id": "aFgOEQ2_b9iX",
        "outputId": "03aa5ae3-a80f-4a73-a344-c10c1a6456c6",
        "colab": {
          "base_uri": "https://localhost:8080/"
        }
      },
      "execution_count": 6,
      "outputs": [
        {
          "output_type": "execute_result",
          "data": {
            "text/plain": [
              "array([[0.45236089, 0.37537462],\n",
              "       [0.59404608, 0.19897088],\n",
              "       [0.94540732, 0.65397755]])"
            ]
          },
          "metadata": {},
          "execution_count": 6
        }
      ]
    },
    {
      "cell_type": "code",
      "source": [
        "!pip install imageai"
      ],
      "metadata": {
        "id": "LgxyO0XMcpVU",
        "outputId": "ec52ecc6-eb07-4701-a318-a064f9666fe1",
        "colab": {
          "base_uri": "https://localhost:8080/"
        }
      },
      "execution_count": 7,
      "outputs": [
        {
          "output_type": "stream",
          "name": "stdout",
          "text": [
            "Looking in indexes: https://pypi.org/simple, https://us-python.pkg.dev/colab-wheels/public/simple/\n",
            "Collecting imageai\n",
            "  Downloading imageai-3.0.3-py3-none-any.whl (69 kB)\n",
            "\u001b[2K     \u001b[90m━━━━━━━━━━━━━━━━━━━━━━━━━━━━━━━━━━━━━━━━\u001b[0m \u001b[32m69.8/69.8 KB\u001b[0m \u001b[31m3.2 MB/s\u001b[0m eta \u001b[36m0:00:00\u001b[0m\n",
            "\u001b[?25hInstalling collected packages: imageai\n",
            "Successfully installed imageai-3.0.3\n"
          ]
        }
      ]
    },
    {
      "cell_type": "code",
      "source": [],
      "metadata": {
        "id": "xapk_pxlcQBN"
      },
      "execution_count": null,
      "outputs": []
    },
    {
      "cell_type": "code",
      "source": [],
      "metadata": {
        "id": "v0Knjiafc_9m"
      },
      "execution_count": null,
      "outputs": []
    },
    {
      "cell_type": "markdown",
      "source": [
        "###imageDown"
      ],
      "metadata": {
        "id": "gADjDCrFdOEx"
      }
    },
    {
      "cell_type": "markdown",
      "source": [
        "example of *markdown*  \n",
        "example of **markdown**  \n",
        "example of _markdown_  \n",
        "example of `markdown`  \n",
        "```\n",
        "example of _markdown_  \n",
        "```\n",
        ">code\n",
        ">>>python\n",
        "\n",
        "an order list:\n",
        "1. ram\n",
        "2. babu\n",
        "an unorder list:\n",
        "* ram\n",
        "* babu\n"
      ],
      "metadata": {
        "id": "t9nk7eWpdXMg"
      }
    },
    {
      "cell_type": "markdown",
      "source": [
        "[zapcourseudemy](https://zapcourses.com/)  \n"
      ],
      "metadata": {
        "id": "bqtfFQffff2y"
      }
    },
    {
      "cell_type": "markdown",
      "source": [
        "![python](https://zapcourses.com/wp-content/uploads/2022/12/Reiki-Trauma-Healing-Heal-Your-Past-Trauma.jpg)  \n"
      ],
      "metadata": {
        "id": "BxOQAsmtf-65"
      }
    },
    {
      "cell_type": "code",
      "source": [
        " "
      ],
      "metadata": {
        "id": "XJTX7Rj7fyLL"
      },
      "execution_count": null,
      "outputs": []
    },
    {
      "cell_type": "code",
      "source": [],
      "metadata": {
        "id": "BhDGNVVWfVY8"
      },
      "execution_count": null,
      "outputs": []
    },
    {
      "cell_type": "markdown",
      "source": [
        "$y=x^2$  \n",
        "$y=x*2$  \n",
        "$\\frac{1}{n} \\sum_{i=1}^{n}x_{i}$  \n"
      ],
      "metadata": {
        "id": "224KZuQegSom"
      }
    },
    {
      "cell_type": "markdown",
      "source": [],
      "metadata": {
        "id": "VGRSh3QPfUqi"
      }
    }
  ]
}